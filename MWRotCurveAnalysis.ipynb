{
 "cells": [
  {
   "cell_type": "code",
   "execution_count": 843,
   "metadata": {},
   "outputs": [],
   "source": [
    "import numpy as np\n",
    "from scipy import signal\n",
    "import os\n",
    "import matplotlib.pyplot as plt\n",
    "from scipy.optimize import curve_fit\n",
    "from astropy.io import ascii\n",
    "%matplotlib inline\n",
    "\n",
    "plt.style.use('classic')"
   ]
  },
  {
   "cell_type": "code",
   "execution_count": 868,
   "metadata": {
    "scrolled": true
   },
   "outputs": [],
   "source": [
    "# Generated list of datasets for use in loop to determine V_max.\n",
    "\n",
    "datalist = [data4,data6,data8,data10,data12,data14,data16,data18,data20,data22,data24,\n",
    "            data26,data28,data30,data32,data34,data36,data38,data40,data42,data44,\n",
    "            data46,data48,data50,data52,data54,data56,data58,data60,data62,data64,\n",
    "            data66,data68,data70,data72,data74,data76,data78,data80,data82,data84,\n",
    "            data86,data88,data90]\n",
    "\n",
    "\n",
    "\n",
    "# Extracting LSR values for each dataset\n",
    "\n",
    "LSR = []\n",
    "\n",
    "for i in range(len(dataLSR)):\n",
    "    LSR.append(dataLSR[i][1])"
   ]
  },
  {
   "cell_type": "code",
   "execution_count": 448,
   "metadata": {},
   "outputs": [],
   "source": [
    "# Funcitonal representations of equation (3) and Doppler velocity formula from lecture 7\n",
    "\n",
    "def Tsys(offline,calibration):\n",
    "    Tcal = 20\n",
    "    Tsys = 0\n",
    "    for i in range(len(offline)):\n",
    "        Tsys  += ((offline[i])/(calibration[i]-offline[i])) * Tcal\n",
    "\n",
    "    return Tsys\n",
    "\n",
    "\n",
    "def vel(f,channel):\n",
    "    c = 3e8\n",
    "    v = np.empty(len(f))\n",
    "    v_correct = np.empty(len(f))\n",
    "\n",
    "    for i in range(len(f)):\n",
    "        v_correct[i] = ((c * ((1420.406 - f[i])/1420.406))/1e3 - LSR[int(channel/2-2)])\n",
    "        v[i] = ((c * ((1420.406 - f[i])/1420.406)))/1e3\n",
    "\n",
    "    return v, v_correct"
   ]
  },
  {
   "cell_type": "code",
   "execution_count": 1053,
   "metadata": {},
   "outputs": [],
   "source": [
    "def func(data,channel):\n",
    "    \n",
    "    \"\"\" This function takes as arguments the intensity and frequency data and channel number \"\"\"\n",
    "    \"\"\" It then filters and calibrates the data. It also estimates V_max and the errors associted with it.\"\"\"\n",
    "    \"\"\" It also plots either the filtered or unfiltered spectrums of each channel\"\"\"\n",
    "    \n",
    "    I1 = []\n",
    "    f1 = []\n",
    "    \n",
    "    d1 = []\n",
    "\n",
    "    I1_off = []\n",
    "    f1_off = []\n",
    "    \n",
    "    # Loop to append signal and frequency data to a list\n",
    "    # The first and last 300 channels were removed\n",
    "    # This was done to improve v_max and errors estimates\n",
    "    for i in range(300,len(data)-300):\n",
    "\n",
    "        I1.append(data[i][1])\n",
    "        f1.append(data[i][0])\n",
    "\n",
    "        I1_off.append(data[i][3])\n",
    "        f1_off.append(data[i][2])\n",
    "\n",
    "        d1.append(data[i][4])\n",
    "\n",
    "    # The raw singal data is filtered to remove noise\n",
    "    I = np.array(signal.medfilt(I1,7))\n",
    "    Ioff = np.array(signal.medfilt(I1_off,7))\n",
    "    d = np.array(signal.medfilt(d1,7))\n",
    "    \n",
    "    \n",
    "    \n",
    "    # Equation (4) from lecture 7\n",
    "    s = ((I/Ioff) * Tsys(I,d))/1e4\n",
    "    \n",
    "    # The spectra from 3 of the data channels were upside down, this fixed that.\n",
    "    s = abs(s)\n",
    "    \n",
    "    \n",
    "    # Mean and standard deviation calculation of baseline signal\n",
    "    mean = np.mean(s[1000:3500])\n",
    "    std = np.std(s[1000:3500])\n",
    "\n",
    "   \n",
    "    # Loops to determine V_max and errors array locations.\n",
    "    for i in range(len(s)):\n",
    "        if s[i] >= (mean + (4*std)):\n",
    "            min_arg = i\n",
    "            break\n",
    "            \n",
    "    for i in range(len(s)):       \n",
    "        if s[i] >= (mean + (6*std)):\n",
    "            max_arg = i\n",
    "            break\n",
    "            \n",
    "    for i in range(len(s)):   \n",
    "        if s[i] >= (mean + (5*std)):\n",
    "            arg = i\n",
    "            break\n",
    "    \n",
    "    # Extraction of V_max and errors from velocity function\n",
    "    velocity = vel(f1,channel)[1]\n",
    "    \n",
    "    v_max = velocity[arg]\n",
    "    v_low = velocity[max_arg]\n",
    "    v_high = velocity[min_arg]\n",
    "    \n",
    "    err = (v_high - v_low)\n",
    "    \n",
    "    #print(err)\n",
    "    \n",
    "    \n",
    "    \n",
    "    ## Plotting ##\n",
    "    \n",
    "    # Depending on which section is uncommented, either the\n",
    "    # raw or calibrated spectrums can be plotted\n",
    "    \n",
    "    \n",
    "    \n",
    "    \n",
    "    ## Uncalibrated Spectrum plots ##\n",
    "    \n",
    "#     plt.figure(figsize=(19,11))\n",
    "#     plt.title('Uncalibrated Online Spectrum $l=$'+str(channel), fontsize=24)\n",
    "#     plt.title('Filtered Spectra $l=$'+str(channel), fontsize=24)\n",
    "#     plt.xlabel('Channel', fontsize=18)\n",
    "#     plt.ylabel('Relative Intensity', fontsize=18)\n",
    "#     plt.plot(I, label='Online')\n",
    "#     plt.plot(Ioff, label='Offline')\n",
    "#     plt.plot(d, label='Offline with Noise Diode')\n",
    "    \n",
    "    \n",
    "    \n",
    "    ## Calibrated spectrum plots ##\n",
    "    \n",
    "#     plt.figure(figsize=(19,11))\n",
    "#     plt.title('Calibrated HI Emission Spectrum $l=$'+str(channel),fontsize=24)\n",
    "#     plt.xlabel('Velocity (km/s)', fontsize=18)\n",
    "#     plt.ylabel('Intensity (K)', fontsize=18)\n",
    "#     plt.plot(velocity,s,'k.')\n",
    "#     plt.axvline(velocity[min_arg],color='blue', linewidth=3, label='Lower error bound')\n",
    "#     plt.axvline(velocity[max_arg],color='red', linewidth=3, label='Upper error bound')\n",
    "#     plt.axvline(velocity[arg],color='black', linewidth=3, label='$V_{max}$ estimate')\n",
    "#     plt.plot(vel(f1,channel)[0],s,'r--',label='LSR Uncorrected')\n",
    "#     plt.legend(loc='best',fontsize=20)\n",
    "#     plt.xlim(-100,200)\n",
    "    \n",
    "        \n",
    "    return v_max, s, f1, err"
   ]
  },
  {
   "cell_type": "code",
   "execution_count": 1054,
   "metadata": {},
   "outputs": [],
   "source": [
    "# Initialise lists and constants for rotation curve plot\n",
    "\n",
    "v_rot = []\n",
    "dist = []\n",
    "v_err = []\n",
    "\n",
    "V0 = 220\n",
    "R0 = 8.5\n",
    "l = np.linspace(4,90,44)"
   ]
  },
  {
   "cell_type": "code",
   "execution_count": 1055,
   "metadata": {
    "scrolled": true
   },
   "outputs": [],
   "source": [
    "# Loop to extract distances, velocities and errors\n",
    "\n",
    "for i in range(len(LSR)):\n",
    "    \n",
    "    v_err.append(func(datalist[i],i)[3])\n",
    "    \n",
    "    v_rot.append(func(datalist[i],i)[0] + (V0*np.sin(np.deg2rad(l[i]))))\n",
    "    dist.append(R0*np.sin(np.deg2rad(l[i])))"
   ]
  },
  {
   "cell_type": "code",
   "execution_count": 1056,
   "metadata": {},
   "outputs": [],
   "source": [
    "# Data fitting function\n",
    "\n",
    "d = np.linspace(dist[0],dist[-1],100)\n",
    "z = np.poly1d(np.polyfit(dist,v_rot,9))"
   ]
  },
  {
   "cell_type": "code",
   "execution_count": 1,
   "metadata": {
    "scrolled": false
   },
   "outputs": [],
   "source": [
    "# Rotation curve plot\n",
    "\n",
    "# plt.figure(figsize=(16,9))\n",
    "# plt.title('Galactic Rotation Curve', fontsize=22)\n",
    "# plt.xlabel('Distance (kpc)', fontsize=18)\n",
    "# plt.ylabel('Rotational Velocity (km/s)', fontsize=18)\n",
    "# plt.plot(dist,v_rot,'k.', markersize=12)\n",
    "# plt.plot(d,z(d),color='red', linewidth=3)\n",
    "# plt.errorbar(dist,v_rot, yerr=v_err,fmt='ko')\n",
    "#plt.savefig('RotationCurve.png')"
   ]
  },
  {
   "cell_type": "code",
   "execution_count": 1010,
   "metadata": {},
   "outputs": [],
   "source": [
    "# Enclosed mass calculations\n",
    "\n",
    "\n",
    "# 1 kpc = 2.063e+8 A.U\n",
    "# 1 km/s = 1.02201e-6 pc/yr\n",
    "# P = 2π a/v\n",
    "# M = a^3/P^2\n",
    "\n",
    "def g_mass(dist,vel):\n",
    "    p = []\n",
    "    \n",
    "    for i in range(len(dist)):\n",
    "        \n",
    "        # Determination of orbital period in correct units\n",
    "        P = 2 * np.pi * (dist[i]*1e3/(vel[i]*1.02201e-6))\n",
    "        p.append(P)\n",
    "        \n",
    "    m = []\n",
    "    for i in range(len(dist)):\n",
    "        \n",
    "        M = (dist[i]*2.063e8)**3 / p[i]**2 # Keplers 3rd Law\n",
    "        m.append(M)\n",
    "        \n",
    "    m = np.asarray(m)    \n",
    "    print('Enclosed Mass: {:.2e}'.format(M), 'Solar Masses')    \n",
    "    return m"
   ]
  },
  {
   "cell_type": "code",
   "execution_count": 1011,
   "metadata": {},
   "outputs": [
    {
     "name": "stdout",
     "output_type": "stream",
     "text": [
      "Enclosed Mass: 1.29e+11 Solar Masses\n"
     ]
    }
   ],
   "source": [
    "# Data for enclosed mass plot\n",
    "x = np.asarray(dist)\n",
    "y = g_mass(dist,v_rot)"
   ]
  },
  {
   "cell_type": "code",
   "execution_count": 810,
   "metadata": {},
   "outputs": [],
   "source": [
    "# Linear fit fucntion\n",
    "def linear(x,m,c):\n",
    "    return m*x + c\n",
    "\n",
    "popt, pcov = curve_fit(linear,x,y)"
   ]
  },
  {
   "cell_type": "code",
   "execution_count": 3,
   "metadata": {},
   "outputs": [],
   "source": [
    "# Enclosed mass plot\n",
    "# l = np.linspace(x[0],x[-1],100)\n",
    "\n",
    "# plt.figure(figsize=(16,9))\n",
    "# plt.title('Milky Way enclosed mass',fontsize=24)\n",
    "# plt.xlabel('Distance (kpc)',fontsize=18)\n",
    "# plt.ylabel('Mass (Solar Masses)', fontsize=18)\n",
    "# plt.plot(x,y,'k.')\n",
    "# plt.plot(l,linear(l,*popt),'r')\n",
    "#plt.savefig('EncMass.png')"
   ]
  }
 ],
 "metadata": {
  "kernelspec": {
   "display_name": "Python 3",
   "language": "python",
   "name": "python3"
  },
  "language_info": {
   "codemirror_mode": {
    "name": "ipython",
    "version": 3
   },
   "file_extension": ".py",
   "mimetype": "text/x-python",
   "name": "python",
   "nbconvert_exporter": "python",
   "pygments_lexer": "ipython3",
   "version": "3.7.4"
  }
 },
 "nbformat": 4,
 "nbformat_minor": 2
}
